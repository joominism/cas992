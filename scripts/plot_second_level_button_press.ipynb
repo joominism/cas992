{
 "cells": [
  {
   "cell_type": "code",
   "execution_count": null,
   "metadata": {},
   "outputs": [],
   "source": [
    "%matplotlib inline"
   ]
  },
  {
   "cell_type": "markdown",
   "metadata": {},
   "source": [
    "\n",
    "GLM fitting in second level fMRI\n",
    "================================\n",
    "\n",
    "Full step-by-step example of fitting a GLM to perform a second level analysis\n",
    "in experimental data and visualizing the results.\n",
    "\n",
    "More specifically:\n",
    "\n",
    "1. A sequence of subject fMRI button press contrasts is downloaded.\n",
    "2. a mask of the useful brain volume is computed\n",
    "3. A one-sample t-test is applied to the brain maps\n",
    "\n",
    "(as fixed effects, then contrast estimation)\n",
    "\n",
    "Author : Martin Perez-Guevara: 2016\n",
    "\n"
   ]
  },
  {
   "cell_type": "code",
   "execution_count": null,
   "metadata": {},
   "outputs": [],
   "source": [
    "import pandas as pd\n",
    "from nilearn import plotting\n",
    "from scipy.stats import norm\n",
    "import matplotlib.pyplot as plt\n",
    "\n",
    "from nilearn.datasets import fetch_localizer_contrasts\n",
    "from nistats.second_level_model import SecondLevelModel"
   ]
  },
  {
   "cell_type": "markdown",
   "metadata": {},
   "source": [
    "Fetch dataset\n",
    "--------------\n",
    "We download a list of left vs right button press contrasts from a\n",
    "localizer dataset.\n",
    "\n"
   ]
  },
  {
   "cell_type": "code",
   "execution_count": null,
   "metadata": {},
   "outputs": [],
   "source": [
    "n_subjects = 16\n",
    "data = fetch_localizer_contrasts([\"left vs right button press\"], n_subjects,\n",
    "                                 get_tmaps=True)"
   ]
  },
  {
   "cell_type": "markdown",
   "metadata": {},
   "source": [
    "Display subject t_maps\n",
    "----------------------\n",
    "We plot a grid with all the subjects t-maps thresholded at t = 2 for\n",
    "simple visualization purposes. The button press effect is visible among\n",
    "all subjects\n",
    "\n"
   ]
  },
  {
   "cell_type": "code",
   "execution_count": null,
   "metadata": {},
   "outputs": [],
   "source": [
    "subjects = [subject_data[0] for subject_data in data['ext_vars']]\n",
    "fig, axes = plt.subplots(figsize = (10,10), nrows=4, ncols=4)\n",
    "for cidx, tmap in enumerate(data['tmaps']):\n",
    "    plotting.plot_glass_brain(tmap, colorbar=False, threshold=2.0,\n",
    "                              title=subjects[cidx],\n",
    "                              axes=axes[int(cidx / 4), int(cidx % 4)],\n",
    "                              plot_abs=False, display_mode='z')\n",
    "fig.suptitle('subjects t_map left-right button press')\n",
    "plt.show()"
   ]
  },
  {
   "cell_type": "markdown",
   "metadata": {},
   "source": [
    "Estimate second level model\n",
    "---------------------------\n",
    "We define the input maps and the design matrix for the second level model\n",
    "and fit it.\n",
    "\n"
   ]
  },
  {
   "cell_type": "code",
   "execution_count": null,
   "metadata": {},
   "outputs": [],
   "source": [
    "second_level_input = data['cmaps']\n",
    "design_matrix = pd.DataFrame([1] * len(second_level_input),\n",
    "                             columns=['intercept'])\n",
    "\n",
    "second_level_model = SecondLevelModel(smoothing_fwhm=8.0)\n",
    "second_level_model = second_level_model.fit(second_level_input,\n",
    "                                            design_matrix=design_matrix)"
   ]
  },
  {
   "cell_type": "markdown",
   "metadata": {},
   "source": [
    "To estimate the contrast is very simple. We can just provide the column\n",
    "name of the design matrix.\n",
    "\n"
   ]
  },
  {
   "cell_type": "code",
   "execution_count": null,
   "metadata": {},
   "outputs": [],
   "source": [
    "z_map = second_level_model.compute_contrast(output_type='z_score')"
   ]
  },
  {
   "cell_type": "markdown",
   "metadata": {},
   "source": [
    "We threshold the second level contrast at uncorrected p < 0.001 and plot\n",
    "\n"
   ]
  },
  {
   "cell_type": "code",
   "execution_count": null,
   "metadata": {},
   "outputs": [],
   "source": [
    "p_val = 0.00005\n",
    "z_th = norm.isf(p_val)\n",
    "display = plotting.plot_glass_brain(\n",
    "    z_map, threshold=z_th, colorbar=True, plot_abs=False, display_mode='z',\n",
    "    title='group left-right button press (unc p<0.001')\n",
    "\n",
    "plotting.show()"
   ]
  },
  {
   "cell_type": "code",
   "execution_count": null,
   "metadata": {},
   "outputs": [],
   "source": []
  }
 ],
 "metadata": {
  "kernelspec": {
   "display_name": "Python 3",
   "language": "python",
   "name": "python3"
  },
  "language_info": {
   "codemirror_mode": {
    "name": "ipython",
    "version": 3
   },
   "file_extension": ".py",
   "mimetype": "text/x-python",
   "name": "python",
   "nbconvert_exporter": "python",
   "pygments_lexer": "ipython3",
   "version": "3.6.3"
  }
 },
 "nbformat": 4,
 "nbformat_minor": 1
}
