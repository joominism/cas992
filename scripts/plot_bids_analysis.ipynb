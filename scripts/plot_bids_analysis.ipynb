{
 "cells": [
  {
   "cell_type": "code",
   "execution_count": null,
   "metadata": {},
   "outputs": [],
   "source": [
    "%matplotlib inline"
   ]
  },
  {
   "cell_type": "markdown",
   "metadata": {},
   "source": [
    "\n",
    "BIDS dataset first and second level analysis\n",
    "============================================\n",
    "\n",
    "Author : Martin Perez-Guevara: 2016\n",
    "\n",
    "\n",
    "\n",
    "Full step-by-step example of fitting a GLM to perform a first and second level\n",
    "analysis in a BIDS dataset and visualizing the results. Details about the BIDS\n",
    "standard can be consulted at http://bids.neuroimaging.io/\n",
    "\n",
    "More specifically:\n",
    "\n",
    "1. Download an fMRI BIDS dataset with two language conditions to contrast.\n",
    "2. Extract automatically from the BIDS dataset first level model objects\n",
    "3. Fit a second level model on the fitted first level models. Notice that\n",
    "   in this case the preprocessed bold images were already normalized to the\n",
    "   same MNI space.\n",
    "\n",
    "\n",
    "\n",
    "To run this example, you must launch IPython via ``ipython\n",
    "--matplotlib`` in a terminal, or use the Jupyter notebook.\n",
    "    :depth: 1\n",
    "\n"
   ]
  },
  {
   "cell_type": "markdown",
   "metadata": {},
   "source": [
    "Fetch example BIDS dataset\n",
    "--------------------------\n",
    "We download an simplified BIDS dataset made available for illustrative\n",
    "purposes. It contains only the necessary\n",
    "information to run a statistical analysis using Nistats. The raw data\n",
    "subject folders only contain bold.json and events.tsv files, while the\n",
    "derivatives folder with preprocessed files contain preproc.nii and\n",
    "confounds.tsv files.\n",
    "\n"
   ]
  },
  {
   "cell_type": "code",
   "execution_count": null,
   "metadata": {},
   "outputs": [],
   "source": [
    "from nistats.datasets import fetch_bids_langloc_dataset\n",
    "data_dir, _ = fetch_bids_langloc_dataset()"
   ]
  },
  {
   "cell_type": "markdown",
   "metadata": {},
   "source": [
    "Obtain automatically FirstLevelModel objects and fit arguments\n",
    "--------------------------------------------------------------\n",
    "From the dataset directory we obtain automatically FirstLevelModel objects\n",
    "with their subject_id filled from the BIDS dataset. Moreover we obtain\n",
    "for each model a dictionary with run_imgs, events and confounder regressors\n",
    "since in this case a confounds.tsv file is available in the BIDS dataset.\n",
    "To get the first level models we only have to specify the dataset directory\n",
    "and the task_label as specified in the file names.\n",
    "\n"
   ]
  },
  {
   "cell_type": "code",
   "execution_count": null,
   "metadata": {},
   "outputs": [],
   "source": [
    "from nistats.first_level_model import first_level_models_from_bids\n",
    "task_label = 'languagelocalizer'\n",
    "space_label = 'MNI152nonlin2009aAsym'\n",
    "models, models_run_imgs, models_events, models_confounds = \\\n",
    "    first_level_models_from_bids(\n",
    "        data_dir, task_label, space_label,\n",
    "        img_filters=[('variant', 'smoothResamp')])"
   ]
  },
  {
   "cell_type": "markdown",
   "metadata": {},
   "source": [
    "Quick sanity check on fit arguments\n",
    "-----------------------------------\n",
    "Additional checks or information extraction from pre-processed data can\n",
    "be made here\n",
    "\n"
   ]
  },
  {
   "cell_type": "markdown",
   "metadata": {},
   "source": [
    "We just expect one run img per subject.\n",
    "\n"
   ]
  },
  {
   "cell_type": "code",
   "execution_count": null,
   "metadata": {},
   "outputs": [],
   "source": [
    "import os\n",
    "print([os.path.basename(run) for run in models_run_imgs[0]])"
   ]
  },
  {
   "cell_type": "markdown",
   "metadata": {},
   "source": [
    "The only confounds stored are regressors obtained from motion correction. As\n",
    "we can verify from the column headers of the confounds table corresponding\n",
    "to the only run_img present\n",
    "\n"
   ]
  },
  {
   "cell_type": "code",
   "execution_count": null,
   "metadata": {},
   "outputs": [],
   "source": [
    "print(models_confounds[0][0].columns)"
   ]
  },
  {
   "cell_type": "markdown",
   "metadata": {},
   "source": [
    "During this acquisition the subject read blocks of sentences and\n",
    "consonant strings. So these are our only two conditions in events.\n",
    "We verify there are 12 blocks for each condition.\n",
    "\n"
   ]
  },
  {
   "cell_type": "code",
   "execution_count": null,
   "metadata": {},
   "outputs": [],
   "source": [
    "print(models_events[0][0]['trial_type'].value_counts())"
   ]
  },
  {
   "cell_type": "markdown",
   "metadata": {},
   "source": [
    "First level model estimation\n",
    "----------------------------\n",
    "Now we simply fit each first level model and plot for each subject the\n",
    "contrast that reveals the language network (language - string). Notice that\n",
    "we can define a contrast using the names of the conditions especified in the\n",
    "events dataframe. Sum, substraction and scalar multiplication are allowed.\n",
    "\n"
   ]
  },
  {
   "cell_type": "code",
   "execution_count": null,
   "metadata": {},
   "outputs": [],
   "source": [
    "from nilearn import plotting\n",
    "import matplotlib.pyplot as plt\n",
    "from scipy.stats import norm\n",
    "\n",
    "fig, axes = plt.subplots(nrows=2, ncols=5)\n",
    "model_and_args = zip(models, models_run_imgs, models_events, models_confounds)\n",
    "for midx, (model, imgs, events, confounds) in enumerate(model_and_args):\n",
    "    model.fit(imgs, events, confounds)\n",
    "    zmap = model.compute_contrast('language-string')\n",
    "    plotting.plot_glass_brain(zmap, colorbar=False, threshold=norm.isf(0.001),\n",
    "                              title=('sub-' + model.subject_label),\n",
    "                              axes=axes[int(midx / 5), int(midx % 5)],\n",
    "                              plot_abs=False, display_mode='x')\n",
    "fig.suptitle('subjects z_map language network (unc p<0.001)')\n",
    "plt.show()"
   ]
  },
  {
   "cell_type": "markdown",
   "metadata": {},
   "source": [
    "Second level model estimation\n",
    "-----------------------------\n",
    "We just have to provide the list of fitted FirstLevelModel objects\n",
    "to the SecondLevelModel object for estimation. We can do this because\n",
    "all subjects share a similar design matrix (same variables reflected in\n",
    "column names)\n",
    "\n"
   ]
  },
  {
   "cell_type": "code",
   "execution_count": null,
   "metadata": {},
   "outputs": [],
   "source": [
    "from nistats.second_level_model import SecondLevelModel\n",
    "second_level_input = models\n",
    "second_level_model = SecondLevelModel(smoothing_fwhm=8.0)\n",
    "second_level_model = second_level_model.fit(second_level_input)"
   ]
  },
  {
   "cell_type": "markdown",
   "metadata": {},
   "source": [
    "Computing contrasts at the second level is as simple as at the first level\n",
    "Since we are not providing confounders we are performing an one-sample test\n",
    "at the second level with the images determined by the specified first level\n",
    "contrast.\n",
    "\n"
   ]
  },
  {
   "cell_type": "code",
   "execution_count": null,
   "metadata": {},
   "outputs": [],
   "source": [
    "zmap = second_level_model.compute_contrast(first_level_contrast='language-string')"
   ]
  },
  {
   "cell_type": "markdown",
   "metadata": {},
   "source": [
    "The group level contrast reveals a left lateralized fronto-temporal\n",
    "language network\n",
    "\n"
   ]
  },
  {
   "cell_type": "code",
   "execution_count": null,
   "metadata": {},
   "outputs": [],
   "source": [
    "plotting.plot_glass_brain(zmap, colorbar=True, threshold=norm.isf(0.001),\n",
    "                          title='Group language network (unc p<0.001)',\n",
    "                          plot_abs=False, display_mode='x')\n",
    "plotting.show()"
   ]
  }
 ],
 "metadata": {
  "kernelspec": {
   "display_name": "Python 2",
   "language": "python",
   "name": "python2"
  },
  "language_info": {
   "codemirror_mode": {
    "name": "ipython",
    "version": 2
   },
   "file_extension": ".py",
   "mimetype": "text/x-python",
   "name": "python",
   "nbconvert_exporter": "python",
   "pygments_lexer": "ipython2",
   "version": "2.7.12"
  }
 },
 "nbformat": 4,
 "nbformat_minor": 1
}
